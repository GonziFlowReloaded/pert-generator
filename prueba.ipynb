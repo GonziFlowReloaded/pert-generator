{
 "cells": [
  {
   "cell_type": "markdown",
   "metadata": {},
   "source": [
    "# Sape"
   ]
  },
  {
   "cell_type": "code",
   "execution_count": null,
   "metadata": {},
   "outputs": [],
   "source": []
  },
  {
   "cell_type": "code",
   "execution_count": 3,
   "metadata": {},
   "outputs": [
    {
     "name": "stdout",
     "output_type": "stream",
     "text": [
      "Lo siento, no tengo información sobre ese concepto.\n",
      "La distribución normal es una distribución de probabilidad simétrica con forma de campana, donde la media, la mediana y la moda coinciden.\n",
      "Lo siento, no tengo información sobre ese concepto.\n",
      "La varianza mide la dispersión de los datos respecto a la media. Se calcula como el promedio de los cuadrados de las diferencias entre cada valor y la media.\n",
      "Lo siento, no tengo información sobre ese concepto.\n",
      "La varianza mide la dispersión de los datos respecto a la media. Se calcula como el promedio de los cuadrados de las diferencias entre cada valor y la media.\n",
      "La varianza mide la dispersión de los datos respecto a la media. Se calcula como el promedio de los cuadrados de las diferencias entre cada valor y la media.\n",
      "La varianza mide la dispersión de los datos respecto a la media. Se calcula como el promedio de los cuadrados de las diferencias entre cada valor y la media.\n",
      "La varianza mide la dispersión de los datos respecto a la media. Se calcula como el promedio de los cuadrados de las diferencias entre cada valor y la media.\n",
      "Lo siento, no tengo información sobre ese concepto.\n",
      "Lo siento, no tengo información sobre ese concepto.\n",
      "Lo siento, no tengo información sobre ese concepto.\n",
      "Lo siento, no tengo información sobre ese concepto.\n",
      "Lo siento, no tengo información sobre ese concepto.\n",
      "Lo siento, no tengo información sobre ese concepto.\n",
      "Lo siento, no tengo información sobre ese concepto.\n",
      "Lo siento, no tengo información sobre ese concepto.\n",
      "Lo siento, no tengo información sobre ese concepto.\n"
     ]
    },
    {
     "ename": "KeyboardInterrupt",
     "evalue": "Interrupted by user",
     "output_type": "error",
     "traceback": [
      "\u001b[31m---------------------------------------------------------------------------\u001b[39m",
      "\u001b[31mKeyboardInterrupt\u001b[39m                         Traceback (most recent call last)",
      "\u001b[36mCell\u001b[39m\u001b[36m \u001b[39m\u001b[32mIn[3]\u001b[39m\u001b[32m, line 50\u001b[39m\n\u001b[32m     48\u001b[39m experto = SistemaExpertoEstadistica()\n\u001b[32m     49\u001b[39m \u001b[38;5;28;01mwhile\u001b[39;00m \u001b[38;5;28;01mTrue\u001b[39;00m:\n\u001b[32m---> \u001b[39m\u001b[32m50\u001b[39m     consulta = \u001b[38;5;28;43minput\u001b[39;49m\u001b[43m(\u001b[49m\u001b[33;43m\"\u001b[39;49m\u001b[33;43mIngrese un concepto estadístico (o \u001b[39;49m\u001b[33;43m'\u001b[39;49m\u001b[33;43msalir\u001b[39;49m\u001b[33;43m'\u001b[39;49m\u001b[33;43m para terminar): \u001b[39;49m\u001b[33;43m\"\u001b[39;49m\u001b[43m)\u001b[49m\n\u001b[32m     51\u001b[39m     \u001b[38;5;28;01mif\u001b[39;00m consulta.lower() == \u001b[33m\"\u001b[39m\u001b[33msalir\u001b[39m\u001b[33m\"\u001b[39m:\n\u001b[32m     52\u001b[39m         \u001b[38;5;28;01mbreak\u001b[39;00m\n",
      "\u001b[36mFile \u001b[39m\u001b[32mc:\\Users\\gonza\\OneDrive\\Escritorio\\Codigo\\Facultad\\mierda_jaquelin\\env\\Lib\\site-packages\\ipykernel\\kernelbase.py:1282\u001b[39m, in \u001b[36mKernel.raw_input\u001b[39m\u001b[34m(self, prompt)\u001b[39m\n\u001b[32m   1280\u001b[39m     msg = \u001b[33m\"\u001b[39m\u001b[33mraw_input was called, but this frontend does not support input requests.\u001b[39m\u001b[33m\"\u001b[39m\n\u001b[32m   1281\u001b[39m     \u001b[38;5;28;01mraise\u001b[39;00m StdinNotImplementedError(msg)\n\u001b[32m-> \u001b[39m\u001b[32m1282\u001b[39m \u001b[38;5;28;01mreturn\u001b[39;00m \u001b[38;5;28;43mself\u001b[39;49m\u001b[43m.\u001b[49m\u001b[43m_input_request\u001b[49m\u001b[43m(\u001b[49m\n\u001b[32m   1283\u001b[39m \u001b[43m    \u001b[49m\u001b[38;5;28;43mstr\u001b[39;49m\u001b[43m(\u001b[49m\u001b[43mprompt\u001b[49m\u001b[43m)\u001b[49m\u001b[43m,\u001b[49m\n\u001b[32m   1284\u001b[39m \u001b[43m    \u001b[49m\u001b[38;5;28;43mself\u001b[39;49m\u001b[43m.\u001b[49m\u001b[43m_parent_ident\u001b[49m\u001b[43m[\u001b[49m\u001b[33;43m\"\u001b[39;49m\u001b[33;43mshell\u001b[39;49m\u001b[33;43m\"\u001b[39;49m\u001b[43m]\u001b[49m\u001b[43m,\u001b[49m\n\u001b[32m   1285\u001b[39m \u001b[43m    \u001b[49m\u001b[38;5;28;43mself\u001b[39;49m\u001b[43m.\u001b[49m\u001b[43mget_parent\u001b[49m\u001b[43m(\u001b[49m\u001b[33;43m\"\u001b[39;49m\u001b[33;43mshell\u001b[39;49m\u001b[33;43m\"\u001b[39;49m\u001b[43m)\u001b[49m\u001b[43m,\u001b[49m\n\u001b[32m   1286\u001b[39m \u001b[43m    \u001b[49m\u001b[43mpassword\u001b[49m\u001b[43m=\u001b[49m\u001b[38;5;28;43;01mFalse\u001b[39;49;00m\u001b[43m,\u001b[49m\n\u001b[32m   1287\u001b[39m \u001b[43m\u001b[49m\u001b[43m)\u001b[49m\n",
      "\u001b[36mFile \u001b[39m\u001b[32mc:\\Users\\gonza\\OneDrive\\Escritorio\\Codigo\\Facultad\\mierda_jaquelin\\env\\Lib\\site-packages\\ipykernel\\kernelbase.py:1325\u001b[39m, in \u001b[36mKernel._input_request\u001b[39m\u001b[34m(self, prompt, ident, parent, password)\u001b[39m\n\u001b[32m   1322\u001b[39m \u001b[38;5;28;01mexcept\u001b[39;00m \u001b[38;5;167;01mKeyboardInterrupt\u001b[39;00m:\n\u001b[32m   1323\u001b[39m     \u001b[38;5;66;03m# re-raise KeyboardInterrupt, to truncate traceback\u001b[39;00m\n\u001b[32m   1324\u001b[39m     msg = \u001b[33m\"\u001b[39m\u001b[33mInterrupted by user\u001b[39m\u001b[33m\"\u001b[39m\n\u001b[32m-> \u001b[39m\u001b[32m1325\u001b[39m     \u001b[38;5;28;01mraise\u001b[39;00m \u001b[38;5;167;01mKeyboardInterrupt\u001b[39;00m(msg) \u001b[38;5;28;01mfrom\u001b[39;00m\u001b[38;5;250m \u001b[39m\u001b[38;5;28;01mNone\u001b[39;00m\n\u001b[32m   1326\u001b[39m \u001b[38;5;28;01mexcept\u001b[39;00m \u001b[38;5;167;01mException\u001b[39;00m:\n\u001b[32m   1327\u001b[39m     \u001b[38;5;28mself\u001b[39m.log.warning(\u001b[33m\"\u001b[39m\u001b[33mInvalid Message:\u001b[39m\u001b[33m\"\u001b[39m, exc_info=\u001b[38;5;28;01mTrue\u001b[39;00m)\n",
      "\u001b[31mKeyboardInterrupt\u001b[39m: Interrupted by user"
     ]
    }
   ],
   "source": [
    "import tensorflow as tf\n",
    "import numpy as np\n",
    "\n",
    "class SistemaExpertoEstadistica:\n",
    "    def __init__(self):\n",
    "        self.reglas = {\n",
    "            \"media\": \"La media es el promedio de un conjunto de números, calculado sumando todos los valores y dividiendo por la cantidad de elementos.\",\n",
    "            \"mediana\": \"La mediana es el valor central de un conjunto de números ordenados. Si la cantidad de elementos es par, es el promedio de los dos valores centrales.\",\n",
    "            \"moda\": \"La moda es el valor que más se repite en un conjunto de datos.\",\n",
    "            \"varianza\": \"La varianza mide la dispersión de los datos respecto a la media. Se calcula como el promedio de los cuadrados de las diferencias entre cada valor y la media.\",\n",
    "            \"desviacion estandar\": \"La desviación estándar es la raíz cuadrada de la varianza y mide la dispersión de los datos respecto a la media.\",\n",
    "            \"distribucion normal\": \"La distribución normal es una distribución de probabilidad simétrica con forma de campana, donde la media, la mediana y la moda coinciden.\",\n",
    "            \"distribucion binomial\": \"La distribución binomial modela el número de éxitos en una serie de pruebas de Bernoulli con probabilidad p de éxito en cada prueba.\",\n",
    "            \"distribucion de poisson\": \"La distribución de Poisson modela el número de eventos en un intervalo fijo de tiempo o espacio cuando los eventos ocurren con una tasa constante y de manera independiente.\",\n",
    "        }\n",
    "        self.modelo = self.crear_modelo()\n",
    "        self.historial_entradas = []\n",
    "        self.historial_salidas = []\n",
    "    \n",
    "    def crear_modelo(self):\n",
    "        modelo = tf.keras.Sequential([\n",
    "            tf.keras.layers.Embedding(input_dim=1000, output_dim=16, input_length=1),\n",
    "            tf.keras.layers.Flatten(),\n",
    "            tf.keras.layers.Dense(16, activation='relu'),\n",
    "            tf.keras.layers.Dense(8, activation='relu'),\n",
    "            tf.keras.layers.Dense(len(self.reglas), activation='softmax')\n",
    "        ])\n",
    "        modelo.compile(optimizer='adam', loss='sparse_categorical_crossentropy', metrics=['accuracy'])\n",
    "        return modelo\n",
    "    \n",
    "    def entrenar_modelo(self):\n",
    "        if len(self.historial_entradas) > 5:\n",
    "            x_train = np.array(range(len(self.historial_entradas)))\n",
    "            y_train = np.array([list(self.reglas.keys()).index(s) for s in self.historial_salidas])\n",
    "            self.modelo.fit(x_train, y_train, epochs=10, verbose=0)\n",
    "    \n",
    "    def consultar(self, concepto):\n",
    "        concepto = concepto.lower()\n",
    "        if concepto in self.reglas:\n",
    "            respuesta = self.reglas[concepto]\n",
    "            self.historial_entradas.append(concepto)\n",
    "            self.historial_salidas.append(concepto)\n",
    "            self.entrenar_modelo()\n",
    "            return respuesta\n",
    "        else:\n",
    "            return \"Lo siento, no tengo información sobre ese concepto.\"\n",
    "\n",
    "experto = SistemaExpertoEstadistica()\n",
    "while True:\n",
    "    consulta = input(\"Ingrese un concepto estadístico (o 'salir' para terminar): \")\n",
    "    if consulta.lower() == \"salir\":\n",
    "        break\n",
    "    print(experto.consultar(consulta))"
   ]
  }
 ],
 "metadata": {
  "kernelspec": {
   "display_name": "env",
   "language": "python",
   "name": "python3"
  },
  "language_info": {
   "codemirror_mode": {
    "name": "ipython",
    "version": 3
   },
   "file_extension": ".py",
   "mimetype": "text/x-python",
   "name": "python",
   "nbconvert_exporter": "python",
   "pygments_lexer": "ipython3",
   "version": "3.11.9"
  }
 },
 "nbformat": 4,
 "nbformat_minor": 2
}
